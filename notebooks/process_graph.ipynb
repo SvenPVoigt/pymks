{
 "cells": [
  {
   "cell_type": "code",
   "execution_count": 1,
   "metadata": {},
   "outputs": [],
   "source": [
    "import networkx as nx\n",
    "import getpass\n",
    "from pymks.fmks.knowledgebase.cordrapy import Token\n",
    "from pymks.fmks.knowledgebase.materials_schema import Material, Process"
   ]
  },
  {
   "cell_type": "code",
   "execution_count": 2,
   "metadata": {},
   "outputs": [],
   "source": [
    "username = 'svenpvoigt'"
   ]
  },
  {
   "cell_type": "code",
   "execution_count": 3,
   "metadata": {},
   "outputs": [],
   "source": [
    "password = getpass.getpass()"
   ]
  },
  {
   "cell_type": "code",
   "execution_count": 4,
   "metadata": {},
   "outputs": [],
   "source": [
    "token = Token.create('https://api.materialhub.org',username,password,verify=False)"
   ]
  },
  {
   "cell_type": "code",
   "execution_count": 5,
   "metadata": {},
   "outputs": [],
   "source": [
    "m = Material(name='Steel', token=token['access_token'])\n",
    "m.getid()"
   ]
  },
  {
   "cell_type": "code",
   "execution_count": 6,
   "metadata": {},
   "outputs": [
    {
     "data": {
      "text/plain": [
       "'test/7ef3eb55be8534a94dda'"
      ]
     },
     "execution_count": 6,
     "metadata": {},
     "output_type": "execute_result"
    }
   ],
   "source": [
    "m.u0040id"
   ]
  },
  {
   "cell_type": "code",
   "execution_count": 7,
   "metadata": {},
   "outputs": [
    {
     "name": "stdout",
     "output_type": "stream",
     "text": [
      "{\"@context\":[\"http://schema.org/\",{\"mat\":\"https://pages.nist.gov/material-schema/\",\"parameterControlled\":\"mat:parameterControlled\",\"variableMeasured\":\"mat:variableMeasured\"}],\"@type\":[\"CreativeWork\",\"mat:Material\"],\"@id\":\"test/7ef3eb55be8534a94dda\",\"name\":\"Steel\",\"u0040id\":\"\",\"host\":\"https://api.materialhub.org\",\"token\":\"1jtv7gcsmy23rp054oolhsics\",\"className\":\"Material\",\"metadata\":{\"createdOn\":1601679257277,\"createdBy\":\"test/98e182d04a2a56bdd28a\",\"modifiedOn\":1601679257277,\"modifiedBy\":\"test/98e182d04a2a56bdd28a\",\"txnId\":1601679257277012}}\n"
     ]
    },
    {
     "data": {
      "text/plain": [
       "'{\"u0040id\": \"\", \"host\": \"https://api.materialhub.org\", \"token\": \"1jtv7gcsmy23rp054oolhsics\", \"name\": \"\", \"className\": \"Material\", \"prv\": null, \"nxt\": null, \"supplyFor\": null, \"exampleOfWork\": null}'"
      ]
     },
     "execution_count": 7,
     "metadata": {},
     "output_type": "execute_result"
    }
   ],
   "source": [
    "m2 = Material(token=token['access_token'])\n",
    "m2.loadbyid(m.u0040id)\n",
    "\n",
    "m2.json()"
   ]
  },
  {
   "cell_type": "code",
   "execution_count": 9,
   "metadata": {},
   "outputs": [
    {
     "ename": "SyntaxError",
     "evalue": "illegal target for annotation (<ipython-input-9-5a5a9a3d60df>, line 2)",
     "output_type": "error",
     "traceback": [
      "\u001b[0;36m  File \u001b[0;32m\"<ipython-input-9-5a5a9a3d60df>\"\u001b[0;36m, line \u001b[0;32m2\u001b[0m\n\u001b[0;31m    '@type': str\u001b[0m\n\u001b[0m    ^\u001b[0m\n\u001b[0;31mSyntaxError\u001b[0m\u001b[0;31m:\u001b[0m illegal target for annotation\n"
     ]
    }
   ],
   "source": [
    "class CordraModel(BaseModel):\n",
    "    '@type': str\n",
    "    uuid: UUID\n",
    "    _type: str\n",
    "        \n",
    "c = CordraModel()"
   ]
  },
  {
   "cell_type": "code",
   "execution_count": 20,
   "metadata": {},
   "outputs": [
    {
     "data": {
      "text/plain": [
       "'Material'"
      ]
     },
     "execution_count": 20,
     "metadata": {},
     "output_type": "execute_result"
    }
   ],
   "source": [
    "class Process(CordraModel):\n",
    "    name: str\n",
    "    nxt: 'Material'\n",
    "    prv: 'Material'\n",
    "    characterized_by: 'Dataset' = Field(None)\n",
    "        \n",
    "class Material(BaseModel):\n",
    "    name: str\n",
    "    nxt: 'Process' = Field(None)\n",
    "    prv: 'Process' = Field(None)\n",
    "    characterized_by: 'Dataset' = Field(None)\n",
    "        \n",
    "        \n",
    "class Dataset(BaseModel):\n",
    "    characterizes: Union['Material', 'Process']\n",
    "    image: FilePath = Field(None)\n",
    "        \n",
    "\n",
    "Process.update_forward_refs()\n",
    "Material.update_forward_refs()\n",
    "\n",
    "incr = lambda s: chr(ord(s) + 1)\n",
    "decr = lambda s: chr(ord(s) - 1)\n",
    "        \n",
    "mats = dict(zip('abcd', [Material(name=s) for s in 'abcd']))\n",
    "prcs = dict(zip('abc', [Process(name=s, nxt=mats[incr(s)], prv=mats[s]) for s in 'abc']))\n",
    "\n",
    "for key, val in mats.items():\n",
    "    if not (decr(key) < 'a'):\n",
    "        val.prv = prcs[decr(key)]\n",
    "    if not (key > 'c'):\n",
    "        val.nxt = prcs[key]\n",
    "        \n",
    "type(mats['a']).__name__"
   ]
  },
  {
   "cell_type": "code",
   "execution_count": 14,
   "metadata": {},
   "outputs": [
    {
     "ename": "AttributeError",
     "evalue": "type object 'Process' has no attribute 'from_dict_of_lists'",
     "output_type": "error",
     "traceback": [
      "\u001b[0;31m---------------------------------------------------------------------------\u001b[0m",
      "\u001b[0;31mAttributeError\u001b[0m                            Traceback (most recent call last)",
      "\u001b[0;32m<ipython-input-14-9d32ee4d23f1>\u001b[0m in \u001b[0;36m<module>\u001b[0;34m\u001b[0m\n\u001b[1;32m      4\u001b[0m \u001b[0mdol\u001b[0m \u001b[0;34m=\u001b[0m \u001b[0;34m{\u001b[0m\u001b[0;34m'a'\u001b[0m\u001b[0;34m:\u001b[0m \u001b[0;34m[\u001b[0m\u001b[0;34m'b'\u001b[0m\u001b[0;34m]\u001b[0m\u001b[0;34m,\u001b[0m \u001b[0;34m'b'\u001b[0m\u001b[0;34m:\u001b[0m \u001b[0;34m[\u001b[0m\u001b[0;34m'a'\u001b[0m\u001b[0;34m,\u001b[0m \u001b[0;34m'c'\u001b[0m\u001b[0;34m]\u001b[0m\u001b[0;34m,\u001b[0m \u001b[0;34m'c'\u001b[0m\u001b[0;34m:\u001b[0m \u001b[0;34m[\u001b[0m\u001b[0;34m'b'\u001b[0m\u001b[0;34m,\u001b[0m \u001b[0;34m'd'\u001b[0m\u001b[0;34m]\u001b[0m\u001b[0;34m,\u001b[0m \u001b[0;34m'd'\u001b[0m\u001b[0;34m:\u001b[0m \u001b[0;34m[\u001b[0m\u001b[0;34m'c'\u001b[0m\u001b[0;34m,\u001b[0m \u001b[0;34m'e'\u001b[0m\u001b[0;34m]\u001b[0m\u001b[0;34m,\u001b[0m \u001b[0;34m'e'\u001b[0m\u001b[0;34m:\u001b[0m \u001b[0;34m[\u001b[0m\u001b[0;34m'd'\u001b[0m\u001b[0;34m,\u001b[0m \u001b[0;34m'f'\u001b[0m\u001b[0;34m]\u001b[0m\u001b[0;34m,\u001b[0m \u001b[0;34m'f'\u001b[0m\u001b[0;34m:\u001b[0m \u001b[0;34m[\u001b[0m\u001b[0;34m'g'\u001b[0m\u001b[0;34m]\u001b[0m\u001b[0;34m}\u001b[0m  \u001b[0;31m# single edge (0,1)\u001b[0m\u001b[0;34m\u001b[0m\u001b[0;34m\u001b[0m\u001b[0m\n\u001b[1;32m      5\u001b[0m \u001b[0;34m\u001b[0m\u001b[0m\n\u001b[0;32m----> 6\u001b[0;31m \u001b[0mProcess\u001b[0m\u001b[0;34m.\u001b[0m\u001b[0mfrom_dict_of_lists\u001b[0m\u001b[0;34m(\u001b[0m\u001b[0mdol\u001b[0m\u001b[0;34m)\u001b[0m\u001b[0;34m\u001b[0m\u001b[0;34m\u001b[0m\u001b[0m\n\u001b[0m",
      "\u001b[0;31mAttributeError\u001b[0m: type object 'Process' has no attribute 'from_dict_of_lists'"
     ]
    }
   ],
   "source": [
    "class ProcessGraph(Graph):\n",
    "    def n(self, obj):\n",
    "        self.add_node(obj.name, data=obj, _type=type(obj).__name__)\n",
    "        \n",
    "    def e(self, obj1, obj2):\n",
    "        self.add_edge()\n",
    "    \n",
    "    def add_matl(self, M):\n",
    "        self.n(M)\n",
    "        if M.nxt:\n",
    "            self.n(M.nxt)\n",
    "        if M.prv:\n",
    "            self.n(M.prv)\n",
    "            \n",
    "    def add_proc(self, P):\n",
    "        \n",
    "\n",
    "dol = {'a': ['b'], 'b': ['a', 'c'], 'c': ['b', 'd'], 'd': ['c', 'e'], 'e': ['d', 'f'], 'f': ['g']}  # single edge (0,1)\n",
    "\n",
    "Process.from_dict_of_lists(dol)"
   ]
  },
  {
   "cell_type": "code",
   "execution_count": 6,
   "metadata": {},
   "outputs": [],
   "source": [
    "new_schema = BaseModel.parse_raw(material_json)"
   ]
  },
  {
   "cell_type": "code",
   "execution_count": 23,
   "metadata": {},
   "outputs": [
    {
     "name": "stdout",
     "output_type": "stream",
     "text": [
      "{\n",
      "  \"@context\": [\n",
      "    \"http://schema.org/\",\n",
      "    {\n",
      "      \"mat\": \"https://pages.nist.gov/material-schema/\",\n",
      "      \"measurementTechnique\": \"mat:measurementTechnique\",\n",
      "      \"parameterControlled\": \"mat:parameterControlled\",\n",
      "      \"variableMeasured\": \"mat:variableMeasured\"\n",
      "    }\n",
      "  ],\n",
      "  \"@type\": [\n",
      "    \"HowTo\",\n",
      "    \"mat:ProcessHistory\"\n",
      "  ],\n",
      "  \"@id\": \"test/c911297212d955d65050\",\n",
      "  \"name\": \"junk\",\n",
      "  \"description\": \"blah\",\n",
      "  \"supply\": [\n",
      "    {\n",
      "      \"@type\": [\n",
      "        \"HowToSupply\",\n",
      "        \"mat:Material\"\n",
      "      ],\n",
      "      \"identifier\": \"test/e017023c024b9cd19280\",\n",
      "      \"requiredQuantity\": {\n",
      "        \"@type\": \"QuantitativeValue\"\n",
      "      }\n",
      "    }\n",
      "  ],\n",
      "  \"estimatedCost\": {\n",
      "    \"@type\": \"MonetaryAmount\"\n",
      "  },\n",
      "  \"yield\": {\n",
      "    \"@type\": \"QuantitativeValue\"\n",
      "  },\n",
      "  \"metadata\": {\n",
      "    \"createdOn\": 1599848954663,\n",
      "    \"createdBy\": \"test/8464245f615855c1ef20\",\n",
      "    \"modifiedOn\": 1600453025635,\n",
      "    \"modifiedBy\": \"test/98e182d04a2a56bdd28a\",\n",
      "    \"txnId\": 1600453025628001\n",
      "  }\n",
      "}\n"
     ]
    }
   ],
   "source": [
    "X = '{\"@context\":[\"http://schema.org/\",{\"mat\":\"https://pages.nist.gov/material-schema/\",\"measurementTechnique\":\"mat:measurementTechnique\",\"parameterControlled\":\"mat:parameterControlled\",\"variableMeasured\":\"mat:variableMeasured\"}],\"@type\":[\"HowTo\",\"mat:ProcessHistory\"],\"@id\":\"test/c911297212d955d65050\",\"name\":\"junk\",\"description\":\"blah\",\"supply\":[{\"@type\":[\"HowToSupply\",\"mat:Material\"],\"identifier\":\"test/e017023c024b9cd19280\",\"requiredQuantity\":{\"@type\":\"QuantitativeValue\"}}],\"estimatedCost\":{\"@type\":\"MonetaryAmount\"},\"yield\":{\"@type\":\"QuantitativeValue\"},\"metadata\":{\"createdOn\":1599848954663,\"createdBy\":\"test/8464245f615855c1ef20\",\"modifiedOn\":1600453025635,\"modifiedBy\":\"test/98e182d04a2a56bdd28a\",\"txnId\":1600453025628001}}'\n",
    "\n",
    "import json\n",
    "\n",
    "print(json.dumps(json.loads(X), indent=2))"
   ]
  },
  {
   "cell_type": "code",
   "execution_count": 4,
   "metadata": {},
   "outputs": [
    {
     "data": {
      "image/png": "[encoded data removed]",
      "text/plain": [
       "<Figure size 432x288 with 1 Axes>"
      ]
     },
     "metadata": {},
     "output_type": "display_data"
    }
   ],
   "source": [
    "dol = {'a': ['b'], 'b': ['a', 'c'], 'c': ['b', 'd'], 'd': ['c', 'e'], 'e': ['d', 'f'], 'f': ['g']}  # single edge (0,1)\n",
    "G = nx.from_dict_of_lists(dol)\n",
    "nx.draw(G)"
   ]
  },
  {
   "cell_type": "code",
   "execution_count": 13,
   "metadata": {},
   "outputs": [
    {
     "name": "stdout",
     "output_type": "stream",
     "text": [
      "{\n",
      "  \"name\": \"b\",\n",
      "  \"nxt\": {\n",
      "    \"name\": \"b\",\n",
      "    \"nxt\": {\n",
      "      \"name\": \"c\",\n",
      "      \"nxt\": null,\n",
      "      \"prv\": null,\n",
      "      \"characterized_by\": null\n",
      "    },\n",
      "    \"prv\": {\n",
      "      \"name\": \"b\",\n",
      "      \"nxt\": null,\n",
      "      \"prv\": null,\n",
      "      \"characterized_by\": null\n",
      "    },\n",
      "    \"characterized_by\": null\n",
      "  },\n",
      "  \"prv\": {\n",
      "    \"name\": \"a\",\n",
      "    \"nxt\": {\n",
      "      \"name\": \"b\",\n",
      "      \"nxt\": null,\n",
      "      \"prv\": null,\n",
      "      \"characterized_by\": null\n",
      "    },\n",
      "    \"prv\": {\n",
      "      \"name\": \"a\",\n",
      "      \"nxt\": null,\n",
      "      \"prv\": null,\n",
      "      \"characterized_by\": null\n",
      "    },\n",
      "    \"characterized_by\": null\n",
      "  },\n",
      "  \"characterized_by\": null\n",
      "}\n"
     ]
    }
   ],
   "source": [
    "import json \n",
    "\n",
    "print(json.dumps(mats['b'].dict(), indent=2))"
   ]
  },
  {
   "cell_type": "code",
   "execution_count": null,
   "metadata": {},
   "outputs": [],
   "source": []
  }
 ],
 "metadata": {
  "kernelspec": {
   "display_name": "Python 3",
   "language": "python",
   "name": "python3"
  },
  "language_info": {
   "codemirror_mode": {
    "name": "ipython",
    "version": 3
   },
   "file_extension": ".py",
   "mimetype": "text/x-python",
   "name": "python",
   "nbconvert_exporter": "python",
   "pygments_lexer": "ipython3",
   "version": "3.7.8"
  }
 },
 "nbformat": 4,
 "nbformat_minor": 4
}
